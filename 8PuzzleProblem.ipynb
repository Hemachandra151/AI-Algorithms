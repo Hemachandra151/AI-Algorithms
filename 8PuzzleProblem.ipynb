{
  "nbformat": 4,
  "nbformat_minor": 0,
  "metadata": {
    "colab": {
      "provenance": []
    },
    "kernelspec": {
      "name": "python3",
      "display_name": "Python 3"
    },
    "language_info": {
      "name": "python"
    }
  },
  "cells": [
    {
      "cell_type": "code",
      "source": [
        "import numpy as np"
      ],
      "metadata": {
        "id": "AKWlgeIK0Yh6"
      },
      "execution_count": 35,
      "outputs": []
    },
    {
      "cell_type": "markdown",
      "source": [
        "#Data Structure"
      ],
      "metadata": {
        "id": "0vbeySCG0bSe"
      }
    },
    {
      "cell_type": "code",
      "source": [
        "class Node():\n",
        "    def __init__(obj):\n",
        "        obj.data=[[0 for _ in range(3)] for _ in range(3)]\n",
        "        obj.parent=None\n",
        "        obj.child=[]\n",
        "        obj.g=None\n",
        "        obj.h=None\n",
        "\n",
        "    def setData(obj,l):\n",
        "        for i in range(3):\n",
        "            obj.data[0][i]=l[i]\n",
        "            obj.data[1][i]=l[i+3]\n",
        "            obj.data[2][i]=l[i+6]\n",
        "\n",
        "    def setParent(obj,pnode):\n",
        "        obj.parent=pnode\n",
        "\n",
        "    def setChild(obj, cnode):\n",
        "        obj.child.append(cnode)\n",
        "    def setG(obj):\n",
        "        if obj.parent==None:\n",
        "            obj.g=0\n",
        "        else:\n",
        "            obj.g = obj.parent.g+1"
      ],
      "metadata": {
        "id": "dbywHVZV0d5u"
      },
      "execution_count": 36,
      "outputs": []
    },
    {
      "cell_type": "markdown",
      "source": [
        "#Methods"
      ],
      "metadata": {
        "id": "7faLihC80ltX"
      }
    },
    {
      "cell_type": "code",
      "execution_count": 37,
      "metadata": {
        "id": "cc_p-VSmmJmt"
      },
      "outputs": [],
      "source": [
        "\n",
        "\n",
        "goal = [[1,2,3],[4,5,6],[7,8,0]]\n",
        "\n",
        "def getLeaf(root):\n",
        "    leaves = []\n",
        "    visited = []\n",
        "    visited.append(root)\n",
        "    for n in visited:\n",
        "        if len(n.child)==0:\n",
        "            leaves.append(n)\n",
        "        else:\n",
        "            for c in n.child:\n",
        "                visited.append(c)\n",
        "    return leaves\n",
        "\n",
        "def getIndex(node):\n",
        "    for i in range(3):\n",
        "        for j in range(3):\n",
        "            if node.data[i][j]==0:\n",
        "                return i,j\n",
        "\n",
        "def createList(n,node):\n",
        "    for i in range(3):\n",
        "        for j in range(3):\n",
        "            n.data[i][j]=node.data[i][j]\n",
        "\n",
        "def getH(n):\n",
        "    h=0\n",
        "    for i in range(3):\n",
        "        for j in range(3):\n",
        "            if n.data[i][j]-goal[i][j]!=0:\n",
        "                h+=1\n",
        "    return h\n",
        "\n",
        "def checkCondition(leaves):\n",
        "    for n in leaves:\n",
        "        if n.h==0:\n",
        "            return False\n",
        "    return True\n",
        "\n",
        "def createChild(node):\n",
        "    i,j=getIndex(node)\n",
        "    if i+1<3:\n",
        "        n1 = Node()\n",
        "        createList(n1,node)\n",
        "        n1.data[i+1][j],n1.data[i][j] = n1.data[i][j],n1.data[i+1][j]\n",
        "        n1.setParent(node)\n",
        "        n1.setG()\n",
        "        n1.h = getH(n1)\n",
        "        node.setChild(n1)\n",
        "    if i-1>=0:\n",
        "        n2 = Node()\n",
        "        createList(n2,node)\n",
        "        n2.data[i-1][j],n2.data[i][j] = n2.data[i][j],n2.data[i-1][j]\n",
        "        n2.setParent(node)\n",
        "        n2.setG()\n",
        "        n2.h = getH(n2)\n",
        "        node.setChild(n2)\n",
        "    if j+1<3:\n",
        "        n3 = Node()\n",
        "        createList(n3,node)\n",
        "        n3.data[i][j+1],n3.data[i][j] = n3.data[i][j],n3.data[i][j+1]\n",
        "        n3.setParent(node)\n",
        "        n3.setG()\n",
        "        n3.h = getH(n3)\n",
        "        node.setChild(n3)\n",
        "    if j-1>=0:\n",
        "        n4 = Node()\n",
        "        createList(n4,node)\n",
        "        n4.data[i][j-1],n4.data[i][j] = n4.data[i][j],n4.data[i][j-1]\n",
        "        n4.setParent(node)\n",
        "        n4.setG()\n",
        "        n4.h = getH(n4)\n",
        "        node.setChild(n4)\n",
        "\n",
        "\n",
        "\n"
      ]
    },
    {
      "cell_type": "markdown",
      "source": [
        "#A* Algorithm"
      ],
      "metadata": {
        "id": "2suIaVT204Oy"
      }
    },
    {
      "cell_type": "code",
      "source": [
        "root = Node()\n",
        "root.setData([1,2,3,0,4,6,7,5,8])\n",
        "root.setG()\n",
        "root.h = getH(root)\n",
        "leaves = getLeaf(root)\n",
        "\n",
        "\n",
        "while checkCondition(leaves):\n",
        "    f=[]\n",
        "    for v in leaves:\n",
        "        f.append(v.g+v.h)\n",
        "    nf = np.array(f)\n",
        "    index = np.argmin(nf)\n",
        "    node = leaves[index]\n",
        "    createChild(node)\n",
        "    leaves = getLeaf(root)\n",
        "\n",
        "f=[]\n",
        "for v in leaves:\n",
        "    f.append(v.g+v.h)\n",
        "nf = np.array(f)\n",
        "index = np.argmin(nf)\n",
        "node = leaves[index]\n",
        "nodelist=[]\n",
        "while node.parent!=None:\n",
        "    nodelist.append(node)\n",
        "    node = node.parent\n",
        "nodelist.append(node)\n",
        "print(\"The best sequence to solve the puzzle is\")\n",
        "for i in range(len(nodelist)-1,-1,-1):\n",
        "    node = nodelist[i]\n",
        "    for v in node.data:\n",
        "        print(v)\n",
        "    print()\n",
        "    print()\n",
        "    print()"
      ],
      "metadata": {
        "colab": {
          "base_uri": "https://localhost:8080/"
        },
        "id": "V8j1seCs0uzc",
        "outputId": "26492cba-96c2-4870-ac14-e873040d3de5"
      },
      "execution_count": 38,
      "outputs": [
        {
          "output_type": "stream",
          "name": "stdout",
          "text": [
            "The best sequence to solve the puzzle is\n",
            "[1, 2, 3]\n",
            "[0, 4, 6]\n",
            "[7, 5, 8]\n",
            "\n",
            "\n",
            "\n",
            "[1, 2, 3]\n",
            "[4, 0, 6]\n",
            "[7, 5, 8]\n",
            "\n",
            "\n",
            "\n",
            "[1, 2, 3]\n",
            "[4, 5, 6]\n",
            "[7, 0, 8]\n",
            "\n",
            "\n",
            "\n",
            "[1, 2, 3]\n",
            "[4, 5, 6]\n",
            "[7, 8, 0]\n",
            "\n",
            "\n",
            "\n"
          ]
        }
      ]
    }
  ]
}